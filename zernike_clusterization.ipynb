{
 "cells": [
  {
   "cell_type": "markdown",
   "id": "1392422f",
   "metadata": {},
   "source": [
    "# Dendritic Spine Clusterization"
   ]
  },
  {
   "cell_type": "markdown",
   "id": "bb3b88ba",
   "metadata": {},
   "source": [
    "## kernel k-Means Zernike Moments"
   ]
  },
  {
   "cell_type": "code",
   "execution_count": null,
   "id": "6d1ee372",
   "metadata": {
    "scrolled": false
   },
   "outputs": [],
   "source": [
    "dataset_folder = '0.025 0.025 0.1 dataset'\n",
    "lf_metrics_path = f\"{dataset_folder}/lf_metrics.csv\"\n",
    "classical_metrics_path = f\"{dataset_folder}/classical_metrics.csv\"\n",
    "output_dir = \"output/clustering_new_normalized_d=15\"\n",
    "cur_metrics = [\"LightFieldZernikeMoments\"]\n",
    "zernike_prefix = f\"{output_dir}_zernike_15\"\n",
    "calculate_metrics = False\n",
    "save_metrics = True\n",
    "standardize_metrics = True"
   ]
  },
  {
   "cell_type": "code",
   "execution_count": null,
   "id": "eab6566a",
   "metadata": {
    "scrolled": false
   },
   "outputs": [],
   "source": [
    "%%time\n",
    "from spine_analysis.mesh.utils import load_spine_meshes\n",
    "from spine_analysis.shape_metric.io_metric import SpineMetricDataset\n",
    "from notebook_widgets import create_dir\n",
    "\n",
    "create_dir(output_dir)\n",
    "spine_meshes = load_spine_meshes(folder_path=dataset_folder)\n",
    "\n",
    "if calculate_metrics:\n",
    "    every_spine_metrics = SpineMetricDataset()\n",
    "    every_spine_metrics.calculate_metrics(spine_meshes, cur_metrics)\n",
    "\n",
    "    if save_metrics:\n",
    "        every_spine_metrics.save(lf_metrics_path)"
   ]
  },
  {
   "cell_type": "code",
   "execution_count": null,
   "id": "1056fb3a",
   "metadata": {
    "scrolled": false
   },
   "outputs": [],
   "source": [
    "from spine_analysis.spine.grouping import SpineGrouping\n",
    "\n",
    "# load merged and reduced manual classification\n",
    "manual_classification = SpineGrouping().load(f\"{dataset_folder}/manual_classification/manual_classification_merged_reduced.json\")"
   ]
  },
  {
   "cell_type": "code",
   "execution_count": null,
   "id": "6f2b8322",
   "metadata": {
    "scrolled": false
   },
   "outputs": [],
   "source": [
    "from spine_analysis.shape_metric.io_metric import SpineMetricDataset\n",
    "import csv\n",
    "import sys, ctypes as ct\n",
    "\n",
    "csv.field_size_limit(int(ct.c_ulong(-1).value // 2))\n",
    "every_spine_metrics = SpineMetricDataset.load(lf_metrics_path)\n",
    "if standardize_metrics:\n",
    "    every_spine_metrics.standardize()"
   ]
  },
  {
   "cell_type": "markdown",
   "id": "9702fee8",
   "metadata": {},
   "source": [
    "## Absolute clusterization"
   ]
  },
  {
   "cell_type": "code",
   "execution_count": null,
   "id": "4e1bda93",
   "metadata": {
    "scrolled": false
   },
   "outputs": [],
   "source": [
    "%%time\n",
    "from spine_analysis.shape_metric import LightFieldZernikeMomentsSpineMetric\n",
    "from spine_analysis.clusterization.postprocess import score\n",
    "from notebook_widgets import kernel_hierarchical_clustering_experiment_widget\n",
    "from notebook_widgets import SpineMeshDataset\n",
    "\n",
    "zernike_absolute = every_spine_metrics.get_metrics_subset(['LightFieldZernikeMoments'])\n",
    "zernike_absolute.clasterization_preprocess(zernike_postprocess='abs')\n",
    "spine_dataset = SpineMeshDataset().load(dataset_folder)\n",
    "display(kernel_hierarchical_clustering_experiment_widget(zernike_absolute, every_spine_metrics, spine_dataset, score, metric=LightFieldZernikeMomentsSpineMetric.repr_distance,\n",
    "                                                         min_num_of_clusters=3,max_num_of_clusters=5, use_pca=False, classification=manual_classification,\n",
    "                                                         filename_prefix=\"hi_15_zernike_abs\"))"
   ]
  },
  {
   "cell_type": "code",
   "execution_count": null,
   "id": "f62c7a6f",
   "metadata": {
    "pycharm": {
     "name": "#%%\n"
    },
    "scrolled": false
   },
   "outputs": [],
   "source": [
    "%%time\n",
    "from spine_analysis.shape_metric import LightFieldZernikeMomentsSpineMetric\n",
    "from spine_analysis.clusterization.postprocess import score\n",
    "from notebook_widgets import kernel_k_means_clustering_experiment_widget\n",
    "from notebook_widgets import SpineMeshDataset\n",
    "\n",
    "zernike_absolute = every_spine_metrics.get_metrics_subset(['LightFieldZernikeMoments'])\n",
    "zernike_absolute.clasterization_preprocess(zernike_postprocess='abs')\n",
    "spine_dataset = SpineMeshDataset().load(dataset_folder)\n",
    "display(kernel_k_means_clustering_experiment_widget(zernike_absolute, every_spine_metrics, spine_dataset, score, metric=LightFieldZernikeMomentsSpineMetric.repr_distance,\n",
    "                                             max_num_of_clusters=9, use_pca=False,\n",
    "                                             filename_prefix=\"kk_15_zernike_abs\"))"
   ]
  },
  {
   "cell_type": "markdown",
   "id": "38ad7cb4",
   "metadata": {},
   "source": [
    "## Real part clusterization"
   ]
  },
  {
   "cell_type": "code",
   "execution_count": null,
   "id": "f4f90e1e",
   "metadata": {
    "scrolled": false
   },
   "outputs": [],
   "source": [
    "from spine_analysis.shape_metric import LightFieldZernikeMomentsSpineMetric\n",
    "from spine_analysis.clusterization.postprocess import score\n",
    "from notebook_widgets import kernel_k_means_clustering_experiment_widget\n",
    "from notebook_widgets import SpineMeshDataset\n",
    "\n",
    "zernike_real = every_spine_metrics.get_metrics_subset(['LightFieldZernikeMoments'])\n",
    "zernike_real.clasterization_preprocess(zernike_postprocess='real')\n",
    "# load meshes and apply scale\n",
    "spine_dataset = SpineMeshDataset().load(dataset_folder)\n",
    "display(kernel_k_means_clustering_experiment_widget(zernike_real, every_spine_metrics, spine_dataset, score, metric=LightFieldZernikeMomentsSpineMetric.repr_distance,\n",
    "                                             max_num_of_clusters=9, use_pca=False,\n",
    "                                             filename_prefix=\"zernike_real_12\"))"
   ]
  },
  {
   "cell_type": "markdown",
   "id": "eebe509f",
   "metadata": {},
   "source": [
    "### LF + classical metrics composition Kernel Hierarchical ABS"
   ]
  },
  {
   "cell_type": "code",
   "execution_count": null,
   "id": "a340fb72",
   "metadata": {
    "scrolled": false
   },
   "outputs": [],
   "source": [
    "%%time\n",
    "from spine_analysis.shape_metric import LightFieldZernikeMomentsSpineMetric\n",
    "from spine_analysis.clusterization.postprocess import score\n",
    "from notebook_widgets import kernel_hierarchical_clustering_experiment_widget\n",
    "from notebook_widgets import SpineMeshDataset\n",
    "\n",
    "zernike_absolute = every_spine_metrics.get_metrics_subset(['LightFieldZernikeMoments'])\n",
    "\n",
    "classical_spine_metrics = SpineMetricDataset.load(classical_metrics_path)\n",
    "#classical_spine_metrics = classical_spine_metrics.get_metrics_subset(['Volume'])\n",
    "\n",
    "spine_idxs = classical_spine_metrics._spine_2_row\n",
    "for metric_name in classical_spine_metrics.metric_names:\n",
    "    spines_metric = classical_spine_metrics.column(metric_name)\n",
    "    zernike_absolute.add_metric({spine: spines_metric[idx] for spine, idx in spine_idxs.items()})\n",
    "\n",
    "zernike_absolute.clasterization_preprocess(zernike_postprocess='abs')\n",
    "zernike_absolute.set_metric_distance('LightFieldZernikeMoments', LightFieldZernikeMomentsSpineMetric.repr_distance)\n",
    "\n",
    "if standardize_metrics:\n",
    "    zernike_absolute.standardize()\n",
    "\n",
    "spine_dataset = SpineMeshDataset().load(dataset_folder)"
   ]
  },
  {
   "cell_type": "code",
   "execution_count": null,
   "id": "c523c7f8",
   "metadata": {
    "scrolled": false
   },
   "outputs": [],
   "source": [
    "%%time\n",
    "from spine_analysis.shape_metric.metrics_composition import SquaredRootComposition\n",
    "from spine_analysis.clusterization.postprocess import silhouette\n",
    "\n",
    "import spine_analysis\n",
    "import importlib\n",
    "importlib.reload(spine_analysis.clusterization.postprocess)\n",
    "\n",
    "metrics_composition = SquaredRootComposition(zernike_absolute)\n",
    "\n",
    "display(kernel_hierarchical_clustering_experiment_widget(zernike_absolute, every_spine_metrics, spine_dataset, silhouette, metric=metrics_composition.distance,\n",
    "                                                         max_num_of_clusters=9, use_pca=False, classification=manual_classification,\n",
    "                                                         filename_prefix=\"hi_square_comp_allclassical_15_zernike_abs\"))"
   ]
  },
  {
   "cell_type": "code",
   "execution_count": null,
   "id": "a9e0c7e8",
   "metadata": {
    "scrolled": false
   },
   "outputs": [],
   "source": [
    "%%javascript\n",
    "require(\"notebook/js/notebook\").Notebook.prototype.scroll_to_bottom = function () {}"
   ]
  }
 ],
 "metadata": {
  "kernelspec": {
   "display_name": "Python 3 (ipykernel)",
   "language": "python",
   "name": "python3"
  },
  "language_info": {
   "codemirror_mode": {
    "name": "ipython",
    "version": 3
   },
   "file_extension": ".py",
   "mimetype": "text/x-python",
   "name": "python",
   "nbconvert_exporter": "python",
   "pygments_lexer": "ipython3",
   "version": "3.8.12"
  },
  "vscode": {
   "interpreter": {
    "hash": "54a9fa25072dd126c78a4362dac5f2d5946da7d7d15a6b7efee561adfb85d980"
   }
  }
 },
 "nbformat": 4,
 "nbformat_minor": 5
}