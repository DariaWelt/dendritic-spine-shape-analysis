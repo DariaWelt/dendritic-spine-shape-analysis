{
 "cells": [
  {
   "cell_type": "markdown",
   "id": "ba0b121f",
   "metadata": {},
   "source": [
    "# Dendritic Spine Clusterization"
   ]
  },
  {
   "cell_type": "markdown",
   "id": "178765e5",
   "metadata": {},
   "source": [
    "## kernel k-Means Zernike Moments"
   ]
  },
  {
   "cell_type": "code",
   "execution_count": 1,
   "id": "378c2eff",
   "metadata": {},
   "outputs": [],
   "source": [
    "dataset_folder = '0.025 0.025 0.1 dataset'\n",
    "output_dir = \"output/clustering_new_normalized_d=15\"\n",
    "cur_metrics = [\"LightFieldZernikeMoments\"]\n",
    "zernike_prefix = f\"{output_dir}_zernike_15\"\n",
    "calculate_metrics = False\n",
    "save_metrics = True\n",
    "standardize_metrics = True"
   ]
  },
  {
   "cell_type": "code",
   "execution_count": 2,
   "id": "0db0ed62",
   "metadata": {},
   "outputs": [
    {
     "name": "stderr",
     "output_type": "stream",
     "text": [
      "/Users/Daria_Smirnova/miniconda3/envs/spine-analysis/lib/python3.8/site-packages/libpysal/weights/util.py:23: UserWarning: geopandas not available. Some functionality will be disabled.\n",
      "  warn(\"geopandas not available. Some functionality will be disabled.\")\n",
      "/Users/Daria_Smirnova/miniconda3/envs/spine-analysis/lib/python3.8/site-packages/tslearn/bases/bases.py:15: UserWarning: h5py not installed, hdf5 features will not be supported.\n",
      "Install h5py to use hdf5 features: http://docs.h5py.org/\n",
      "  warn(h5py_msg)\n"
     ]
    },
    {
     "name": "stdout",
     "output_type": "stream",
     "text": [
      "CPU times: user 5.15 s, sys: 1.47 s, total: 6.62 s\n",
      "Wall time: 7.14 s\n"
     ]
    }
   ],
   "source": [
    "%%time\n",
    "from spine_analysis.mesh.utils import load_spine_meshes\n",
    "from spine_analysis.shape_metric.io_metric import SpineMetricDataset\n",
    "from notebook_widgets import create_dir\n",
    "\n",
    "create_dir(output_dir)\n",
    "spine_meshes = load_spine_meshes(folder_path=dataset_folder)\n",
    "\n",
    "if calculate_metrics:\n",
    "    every_spine_metrics = SpineMetricDataset()\n",
    "    every_spine_metrics.calculate_metrics(spine_meshes, cur_metrics)\n",
    "\n",
    "    if save_metrics:\n",
    "        every_spine_metrics.save(f\"{output_dir}/metrics.csv\")"
   ]
  },
  {
   "cell_type": "code",
   "execution_count": 3,
   "id": "84549f36",
   "metadata": {},
   "outputs": [],
   "source": [
    "from spine_analysis.shape_metric.io_metric import SpineMetricDataset\n",
    "import csv\n",
    "import sys, ctypes as ct\n",
    "\n",
    "csv.field_size_limit(int(ct.c_ulong(-1).value // 2))\n",
    "every_spine_metrics = SpineMetricDataset.load(f\"{output_dir}/metrics.csv\")\n",
    "if standardize_metrics:\n",
    "    every_spine_metrics.standardize()"
   ]
  },
  {
   "cell_type": "markdown",
   "id": "2a88f176",
   "metadata": {},
   "source": [
    "## Absolute clusterization"
   ]
  },
  {
   "cell_type": "code",
   "execution_count": 4,
   "id": "dbad3fd4",
   "metadata": {
    "pycharm": {
     "name": "#%%\n"
    }
   },
   "outputs": [
    {
     "name": "stderr",
     "output_type": "stream",
     "text": [
      "/Users/Daria_Smirnova/miniconda3/envs/spine-analysis/lib/python3.8/site-packages/tslearn/utils/utils.py:88: UserWarning: 2-Dimensional data passed. Assuming these are 149 1-dimensional timeseries\n",
      "  warnings.warn('2-Dimensional data passed. Assuming these are '\n",
      "/Users/Daria_Smirnova/miniconda3/envs/spine-analysis/lib/python3.8/site-packages/tslearn/utils/utils.py:88: UserWarning: 2-Dimensional data passed. Assuming these are 149 1-dimensional timeseries\n",
      "  warnings.warn('2-Dimensional data passed. Assuming these are '\n",
      "/Users/Daria_Smirnova/miniconda3/envs/spine-analysis/lib/python3.8/site-packages/tslearn/utils/utils.py:88: UserWarning: 2-Dimensional data passed. Assuming these are 149 1-dimensional timeseries\n",
      "  warnings.warn('2-Dimensional data passed. Assuming these are '\n",
      "/Users/Daria_Smirnova/miniconda3/envs/spine-analysis/lib/python3.8/site-packages/tslearn/utils/utils.py:88: UserWarning: 2-Dimensional data passed. Assuming these are 149 1-dimensional timeseries\n",
      "  warnings.warn('2-Dimensional data passed. Assuming these are '\n",
      "/Users/Daria_Smirnova/miniconda3/envs/spine-analysis/lib/python3.8/site-packages/tslearn/utils/utils.py:88: UserWarning: 2-Dimensional data passed. Assuming these are 149 1-dimensional timeseries\n",
      "  warnings.warn('2-Dimensional data passed. Assuming these are '\n",
      "/Users/Daria_Smirnova/miniconda3/envs/spine-analysis/lib/python3.8/site-packages/tslearn/utils/utils.py:88: UserWarning: 2-Dimensional data passed. Assuming these are 149 1-dimensional timeseries\n",
      "  warnings.warn('2-Dimensional data passed. Assuming these are '\n",
      "/Users/Daria_Smirnova/miniconda3/envs/spine-analysis/lib/python3.8/site-packages/tslearn/utils/utils.py:88: UserWarning: 2-Dimensional data passed. Assuming these are 149 1-dimensional timeseries\n",
      "  warnings.warn('2-Dimensional data passed. Assuming these are '\n",
      "/Users/Daria_Smirnova/miniconda3/envs/spine-analysis/lib/python3.8/site-packages/tslearn/utils/utils.py:88: UserWarning: 2-Dimensional data passed. Assuming these are 149 1-dimensional timeseries\n",
      "  warnings.warn('2-Dimensional data passed. Assuming these are '\n"
     ]
    },
    {
     "data": {
      "application/vnd.jupyter.widget-view+json": {
       "model_id": "43d4aca33fae430987da4de350176684",
       "version_major": 2,
       "version_minor": 0
      },
      "text/plain": [
       "HBox(children=(Output(),), layout=Layout(width='3000px'))"
      ]
     },
     "metadata": {},
     "output_type": "display_data"
    },
    {
     "data": {
      "application/vnd.jupyter.widget-view+json": {
       "model_id": "4a8ab34d25e145239e800c9d3ca9dc01",
       "version_major": 2,
       "version_minor": 0
      },
      "text/plain": [
       "VBox(children=(HBox(children=(Output(), Output())), Button(description='Export Clusterization', style=ButtonSt…"
      ]
     },
     "metadata": {},
     "output_type": "display_data"
    },
    {
     "data": {
      "application/vnd.jupyter.widget-view+json": {
       "model_id": "7e1f5fde68564223bec8d1c05178c58e",
       "version_major": 2,
       "version_minor": 0
      },
      "text/plain": [
       "VBox(children=(HBox(children=(Button(description='<', style=ButtonStyle()), Button(description='>', style=Butt…"
      ]
     },
     "metadata": {},
     "output_type": "display_data"
    }
   ],
   "source": [
    "from spine_analysis.shape_metric import LightFieldZernikeMomentsSpineMetric\n",
    "from spine_analysis.clusterization.postprocess import score\n",
    "from notebook_widgets import kernel_k_means_clustering_experiment_widget\n",
    "from notebook_widgets import SpineMeshDataset\n",
    "\n",
    "zernike_absolute = every_spine_metrics.get_metrics_subset(['LightFieldZernikeMoments'])\n",
    "zernike_absolute.clasterization_preprocess(zernike_postprocess='abs')\n",
    "# load meshes and apply scale\n",
    "spine_dataset = SpineMeshDataset().load(dataset_folder)\n",
    "display(kernel_k_means_clustering_experiment_widget(zernike_absolute, every_spine_metrics, spine_dataset, score, metric=LightFieldZernikeMomentsSpineMetric.repr_distance,\n",
    "                                             max_num_of_clusters=9, use_pca=False,\n",
    "                                             filename_prefix=\"15_zernike_abs\"))"
   ]
  },
  {
   "cell_type": "markdown",
   "id": "60ac6d48",
   "metadata": {},
   "source": [
    "## Real part clusterization"
   ]
  },
  {
   "cell_type": "code",
   "execution_count": 5,
   "id": "ce9d0aa4",
   "metadata": {},
   "outputs": [
    {
     "name": "stderr",
     "output_type": "stream",
     "text": [
      "/home/daria/miniconda3/envs/dendritic-spine-shape-analysis/lib/python3.10/site-packages/tslearn/utils/utils.py:88: UserWarning: 2-Dimensional data passed. Assuming these are 149 1-dimensional timeseries\n",
      "  warnings.warn('2-Dimensional data passed. Assuming these are '\n",
      "/home/daria/miniconda3/envs/dendritic-spine-shape-analysis/lib/python3.10/site-packages/tslearn/utils/utils.py:88: UserWarning: 2-Dimensional data passed. Assuming these are 149 1-dimensional timeseries\n",
      "  warnings.warn('2-Dimensional data passed. Assuming these are '\n",
      "/home/daria/miniconda3/envs/dendritic-spine-shape-analysis/lib/python3.10/site-packages/tslearn/utils/utils.py:88: UserWarning: 2-Dimensional data passed. Assuming these are 149 1-dimensional timeseries\n",
      "  warnings.warn('2-Dimensional data passed. Assuming these are '\n",
      "/home/daria/miniconda3/envs/dendritic-spine-shape-analysis/lib/python3.10/site-packages/tslearn/utils/utils.py:88: UserWarning: 2-Dimensional data passed. Assuming these are 149 1-dimensional timeseries\n",
      "  warnings.warn('2-Dimensional data passed. Assuming these are '\n",
      "/home/daria/miniconda3/envs/dendritic-spine-shape-analysis/lib/python3.10/site-packages/tslearn/utils/utils.py:88: UserWarning: 2-Dimensional data passed. Assuming these are 149 1-dimensional timeseries\n",
      "  warnings.warn('2-Dimensional data passed. Assuming these are '\n",
      "/home/daria/miniconda3/envs/dendritic-spine-shape-analysis/lib/python3.10/site-packages/tslearn/utils/utils.py:88: UserWarning: 2-Dimensional data passed. Assuming these are 149 1-dimensional timeseries\n",
      "  warnings.warn('2-Dimensional data passed. Assuming these are '\n",
      "/home/daria/miniconda3/envs/dendritic-spine-shape-analysis/lib/python3.10/site-packages/tslearn/utils/utils.py:88: UserWarning: 2-Dimensional data passed. Assuming these are 149 1-dimensional timeseries\n",
      "  warnings.warn('2-Dimensional data passed. Assuming these are '\n",
      "/home/daria/miniconda3/envs/dendritic-spine-shape-analysis/lib/python3.10/site-packages/tslearn/utils/utils.py:88: UserWarning: 2-Dimensional data passed. Assuming these are 149 1-dimensional timeseries\n",
      "  warnings.warn('2-Dimensional data passed. Assuming these are '\n"
     ]
    },
    {
     "data": {
      "application/vnd.jupyter.widget-view+json": {
       "model_id": "30e883dc65334e01a1a2e1c238228f91",
       "version_major": 2,
       "version_minor": 0
      },
      "text/plain": [
       "VBox(children=(HBox(children=(Button(description='<', style=ButtonStyle()), Button(description='>', style=Butt…"
      ]
     },
     "metadata": {},
     "output_type": "display_data"
    }
   ],
   "source": [
    "from spine_analysis.shape_metric import LightFieldZernikeMomentsSpineMetric\n",
    "from spine_analysis.clusterization.postprocess import score\n",
    "from notebook_widgets import kernel_k_means_clustering_experiment_widget\n",
    "from notebook_widgets import SpineMeshDataset\n",
    "\n",
    "zernike_real = every_spine_metrics.get_metrics_subset(['LightFieldZernikeMoments'])\n",
    "zernike_real.clasterization_preprocess(zernike_postprocess='real')\n",
    "# load meshes and apply scale\n",
    "spine_dataset = SpineMeshDataset().load(dataset_folder)\n",
    "display(kernel_k_means_clustering_experiment_widget(zernike_real, every_spine_metrics, spine_dataset, score, metric=LightFieldZernikeMomentsSpineMetric.repr_distance,\n",
    "                                             max_num_of_clusters=9, use_pca=False,\n",
    "                                             filename_prefix=\"zernike_real_12\"))"
   ]
  },
  {
   "cell_type": "code",
   "execution_count": null,
   "id": "3377c76e",
   "metadata": {},
   "outputs": [],
   "source": []
  }
 ],
 "metadata": {
  "kernelspec": {
   "display_name": "Python 3.8.12 ('spine-analysis')",
   "language": "python",
   "name": "python3"
  },
  "language_info": {
   "codemirror_mode": {
    "name": "ipython",
    "version": 3
   },
   "file_extension": ".py",
   "mimetype": "text/x-python",
   "name": "python",
   "nbconvert_exporter": "python",
   "pygments_lexer": "ipython3",
   "version": "3.8.12"
  },
  "vscode": {
   "interpreter": {
    "hash": "54a9fa25072dd126c78a4362dac5f2d5946da7d7d15a6b7efee561adfb85d980"
   }
  }
 },
 "nbformat": 4,
 "nbformat_minor": 5
}
