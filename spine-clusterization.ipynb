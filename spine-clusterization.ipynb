{
 "cells": [
  {
   "cell_type": "markdown",
   "id": "ba0b121f",
   "metadata": {},
   "source": [
    "# Dendritic Spine Clusterization"
   ]
  },
  {
   "cell_type": "code",
   "execution_count": null,
   "id": "3d9db864",
   "metadata": {
    "scrolled": false
   },
   "outputs": [],
   "source": [
    "from spine_metrics import SpineMetricDataset\n",
    "from notebook_widgets import SpineMeshDataset, intersection_ratios_mean_distance\n",
    "from spine_segmentation import apply_scale\n",
    "from spine_fitter import SpineGrouping\n",
    "\n",
    "\n",
    "dataset_path = \"0.025 0.025 0.1 dataset\"\n",
    "scale = (1, 1, 1)\n",
    "\n",
    "# load meshes and apply scale\n",
    "spine_dataset = SpineMeshDataset().load(dataset_path)\n",
    "spine_dataset.apply_scale(scale)\n",
    "\n",
    "# load merged and reduced manual classification\n",
    "manual_classification = SpineGrouping().load(f\"{dataset_path}/manual_classification/manual_classification_merged_reduced.json\")\n",
    "\n",
    "# load metrics\n",
    "spine_metrics = SpineMetricDataset().load(f\"{dataset_path}/metrics.csv\")\n",
    "spine_metrics = spine_metrics.get_spines_subset(manual_classification.samples)\n",
    "\n",
    "# extract metric subsets\n",
    "classic = spine_metrics.get_metrics_subset(['OpenAngle', 'CVD', \"JunctionArea\", 'AverageDistance', 'Length', 'Area', 'Volume', 'ConvexHullVolume', 'ConvexHullRatio', \"LengthVolumeRatio\", \"LengthAreaRatio\"])\n",
    "classic_prefix = f\"{dataset_path}_classic\"\n",
    "chord = spine_metrics.get_metrics_subset(['OldChordDistribution'])\n",
    "chord_prefix = f\"{dataset_path}_chord\"\n",
    "\n",
    "# set score function to mean distance between class over cluster distributions\n",
    "score_func = lambda clusterizer: intersection_ratios_mean_distance(manual_classification, clusterizer.grouping, False)"
   ]
  },
  {
   "cell_type": "markdown",
   "id": "4ec61ce3",
   "metadata": {},
   "source": [
    "## k-Means Classic Metrics"
   ]
  },
  {
   "cell_type": "code",
   "execution_count": null,
   "id": "53c48863",
   "metadata": {
    "scrolled": false
   },
   "outputs": [],
   "source": [
    "from notebook_widgets import k_means_clustering_experiment_widget\n",
    "\n",
    "display(k_means_clustering_experiment_widget(classic, spine_metrics, spine_dataset, score_func,\n",
    "                                             max_num_of_clusters=100, classification=manual_classification,\n",
    "                                             filename_prefix=classic_prefix))"
   ]
  },
  {
   "cell_type": "markdown",
   "id": "70c72373",
   "metadata": {},
   "source": [
    "## k-Means Chord Histograms"
   ]
  },
  {
   "cell_type": "code",
   "execution_count": null,
   "id": "3570bfd6",
   "metadata": {
    "scrolled": false
   },
   "outputs": [],
   "source": [
    "from notebook_widgets import k_means_clustering_experiment_widget\n",
    "\n",
    "display(k_means_clustering_experiment_widget(chord, spine_metrics, spine_dataset, score_func,\n",
    "                                             max_num_of_clusters=100, classification=manual_classification,\n",
    "                                             filename_prefix=chord_prefix))"
   ]
  },
  {
   "cell_type": "markdown",
   "id": "a3ea493e",
   "metadata": {},
   "source": [
    "## DBSCAN Classic Metrics"
   ]
  },
  {
   "cell_type": "code",
   "execution_count": null,
   "id": "f2610a7b",
   "metadata": {
    "scrolled": false
   },
   "outputs": [],
   "source": [
    "from notebook_widgets import dbscan_clustering_experiment_widget\n",
    "\n",
    "min_eps = 0.2\n",
    "max_eps = 6\n",
    "eps_step = 0.1\n",
    "use_pca = True\n",
    "\n",
    "display(dbscan_clustering_experiment_widget(classic, spine_metrics, spine_dataset, score_func,\n",
    "                                            min_eps=min_eps, max_eps=max_eps, eps_step=eps_step, use_pca=use_pca,\n",
    "                                            classification=manual_classification, filename_prefix=classic_prefix))"
   ]
  },
  {
   "cell_type": "markdown",
   "id": "ce88febb",
   "metadata": {},
   "source": [
    "## DBSCAN Chord Histograms Euclidean Distance"
   ]
  },
  {
   "cell_type": "code",
   "execution_count": null,
   "id": "4ea55f30",
   "metadata": {},
   "outputs": [],
   "source": [
    "from notebook_widgets import dbscan_clustering_experiment_widget\n",
    "\n",
    "min_eps = 0.1\n",
    "max_eps = 3\n",
    "eps_step = 0.1\n",
    "use_pca = True\n",
    "\n",
    "display(dbscan_clustering_experiment_widget(chord, spine_metrics, spine_dataset, score_func,\n",
    "                                            min_eps=min_eps, max_eps=max_eps, eps_step=eps_step, use_pca=use_pca,\n",
    "                                            classification=manual_classification, filename_prefix=f\"{chord_prefix}_euclidean\"))"
   ]
  },
  {
   "cell_type": "markdown",
   "id": "44620329",
   "metadata": {},
   "source": [
    "## DBSCAN Chord Histograms Jensen — Shannon Distance"
   ]
  },
  {
   "cell_type": "code",
   "execution_count": null,
   "id": "434345f2",
   "metadata": {},
   "outputs": [],
   "source": [
    "from notebook_widgets import dbscan_clustering_experiment_widget\n",
    "from scipy.spatial.distance import jensenshannon\n",
    "import numpy as np\n",
    "\n",
    "min_eps = 0.1\n",
    "max_eps = 1\n",
    "eps_step = 0.01\n",
    "use_pca = False\n",
    "\n",
    "def js_distance(x, y) -> float:\n",
    "    return np.sqrt(jensenshannon(x, y))\n",
    "\n",
    "display(dbscan_clustering_experiment_widget(chord, spine_metrics, spine_dataset, score_func, metric=js_distance,\n",
    "                                            min_eps=min_eps, max_eps=max_eps, eps_step=eps_step, use_pca=use_pca,\n",
    "                                            classification=manual_classification, filename_prefix=f\"{chord_prefix}_jensenshannon\"))"
   ]
  },
  {
   "cell_type": "markdown",
   "id": "a8b188ec",
   "metadata": {},
   "source": [
    "## View clusterization"
   ]
  },
  {
   "cell_type": "code",
   "execution_count": null,
   "id": "e64e99db",
   "metadata": {
    "scrolled": false
   },
   "outputs": [],
   "source": [
    "from ipywidgets import widgets\n",
    "from notebook_widgets import inspect_grouping_widget\n",
    "\n",
    "\n",
    "clusterization_path = \"output/clusterization/0.025 0.025 0.1 dataset_chord_kmeans_num_of_clusters=6_6_clusters.json\"\n",
    "\n",
    "clusterization = SpineGrouping().load(clusterization_path)\n",
    "\n",
    "print(\"Combined Metrics / Classic Metrics / Chord Histograms\")\n",
    "display(widgets.HBox([clusterization.show(spine_metrics), clusterization.show(classic), clusterization.show(chord)]))\n",
    "\n",
    "display(inspect_grouping_widget(clusterization, spine_dataset, spine_metrics, spine_metrics, manual_classification))"
   ]
  }
 ],
 "metadata": {
  "kernelspec": {
   "display_name": "Python 3 (ipykernel)",
   "language": "python",
   "name": "python3"
  },
  "language_info": {
   "codemirror_mode": {
    "name": "ipython",
    "version": 3
   },
   "file_extension": ".py",
   "mimetype": "text/x-python",
   "name": "python",
   "nbconvert_exporter": "python",
   "pygments_lexer": "ipython3",
   "version": "3.8.8"
  }
 },
 "nbformat": 4,
 "nbformat_minor": 5
}
