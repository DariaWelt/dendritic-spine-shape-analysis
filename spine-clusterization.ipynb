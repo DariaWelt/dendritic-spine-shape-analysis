{
 "cells": [
  {
   "cell_type": "markdown",
   "id": "ba0b121f",
   "metadata": {},
   "source": [
    "# Dendritic Spine Clusterization"
   ]
  },
  {
   "cell_type": "code",
   "execution_count": null,
   "id": "3d9db864",
   "metadata": {
    "scrolled": false
   },
   "outputs": [],
   "source": [
    "from spine_analysis.spine.grouping import SpineGrouping\n",
    "from spine_analysis.shape_metric.io_metric import SpineMetricDataset\n",
    "from notebook_widgets import SpineMeshDataset, intersection_ratios_mean_distance\n",
    "from spine_segmentation import apply_scale\n",
    "\n",
    "\n",
    "dataset_path = \"0.025 0.025 0.1 dataset\"\n",
    "scale = (1, 1, 1)\n",
    "\n",
    "# load meshes and apply scale\n",
    "spine_dataset = SpineMeshDataset().load(dataset_path)\n",
    "spine_dataset.apply_scale(scale)\n",
    "\n",
    "# load merged and reduced manual classification\n",
    "manual_classification = SpineGrouping().load(f\"{dataset_path}/manual_classification/manual_classification_merged_reduced.json\")\n",
    "\n",
    "# load metrics\n",
    "spine_metrics = SpineMetricDataset().load(f\"{dataset_path}/metrics.csv\")\n",
    "spine_metrics = spine_metrics.get_spines_subset(manual_classification.samples)\n",
    "\n",
    "# extract metric subsets\n",
    "classic = spine_metrics.get_metrics_subset(['OpenAngle', 'CVD', \"JunctionArea\", 'AverageDistance', 'Length', 'Area', 'Volume', 'ConvexHullVolume', 'ConvexHullRatio', \"LengthVolumeRatio\", \"LengthAreaRatio\"])\n",
    "classic_prefix = f\"{dataset_path}_classic\"\n",
    "chord = spine_metrics.get_metrics_subset(['OldChordDistribution'])\n",
    "chord_prefix = f\"{dataset_path}_chord\"\n",
    "\n",
    "# set score function to mean distance between class over cluster distributions\n",
    "score_func = lambda clusterizer: intersection_ratios_mean_distance(manual_classification, clusterizer.grouping, False)"
   ]
  },
  {
   "cell_type": "markdown",
   "id": "4ec61ce3",
   "metadata": {},
   "source": [
    "## k-Means Classic Metrics"
   ]
  },
  {
   "cell_type": "code",
   "execution_count": null,
   "id": "53c48863",
   "metadata": {
    "scrolled": false
   },
   "outputs": [],
   "source": [
    "from notebook_widgets import k_means_clustering_experiment_widget\n",
    "\n",
    "display(k_means_clustering_experiment_widget(classic, spine_metrics, spine_dataset, score_func,\n",
    "                                             max_num_of_clusters=100, classification=manual_classification,\n",
    "                                             filename_prefix=classic_prefix))"
   ]
  },
  {
   "cell_type": "markdown",
   "id": "70c72373",
   "metadata": {},
   "source": [
    "## k-Means Chord Histograms"
   ]
  },
  {
   "cell_type": "code",
   "execution_count": null,
   "id": "3570bfd6",
   "metadata": {
    "scrolled": false
   },
   "outputs": [],
   "source": [
    "from notebook_widgets import k_means_clustering_experiment_widget\n",
    "\n",
    "display(k_means_clustering_experiment_widget(chord, spine_metrics, spine_dataset, score_func,\n",
    "                                             max_num_of_clusters=100, classification=manual_classification,\n",
    "                                             filename_prefix=chord_prefix))"
   ]
  },
  {
   "cell_type": "markdown",
   "id": "a3ea493e",
   "metadata": {},
   "source": [
    "## DBSCAN Classic Metrics"
   ]
  },
  {
   "cell_type": "code",
   "execution_count": null,
   "id": "f2610a7b",
   "metadata": {
    "scrolled": false
   },
   "outputs": [],
   "source": [
    "from notebook_widgets import dbscan_clustering_experiment_widget\n",
    "\n",
    "min_eps = 0.2\n",
    "max_eps = 6\n",
    "eps_step = 0.1\n",
    "use_pca = True\n",
    "\n",
    "display(dbscan_clustering_experiment_widget(classic, spine_metrics, spine_dataset, score_func,\n",
    "                                            min_eps=min_eps, max_eps=max_eps, eps_step=eps_step, use_pca=use_pca,\n",
    "                                            classification=manual_classification, filename_prefix=classic_prefix))"
   ]
  },
  {
   "cell_type": "markdown",
   "id": "ce88febb",
   "metadata": {},
   "source": [
    "## DBSCAN Chord Histograms Euclidean Distance"
   ]
  },
  {
   "cell_type": "code",
   "execution_count": null,
   "id": "4ea55f30",
   "metadata": {},
   "outputs": [],
   "source": [
    "from notebook_widgets import dbscan_clustering_experiment_widget\n",
    "\n",
    "min_eps = 0.1\n",
    "max_eps = 3\n",
    "eps_step = 0.1\n",
    "use_pca = True\n",
    "\n",
    "display(dbscan_clustering_experiment_widget(chord, spine_metrics, spine_dataset, score_func,\n",
    "                                            min_eps=min_eps, max_eps=max_eps, eps_step=eps_step, use_pca=use_pca,\n",
    "                                            classification=manual_classification, filename_prefix=f\"{chord_prefix}_euclidean\"))"
   ]
  },
  {
   "cell_type": "markdown",
   "id": "44620329",
   "metadata": {},
   "source": [
    "## DBSCAN Chord Histograms Jensen — Shannon Distance"
   ]
  },
  {
   "cell_type": "code",
   "execution_count": null,
   "id": "434345f2",
   "metadata": {},
   "outputs": [],
   "source": [
    "from notebook_widgets import dbscan_clustering_experiment_widget\n",
    "from scipy.spatial.distance import jensenshannon\n",
    "import numpy as np\n",
    "\n",
    "min_eps = 0.1\n",
    "max_eps = 1\n",
    "eps_step = 0.01\n",
    "use_pca = False\n",
    "\n",
    "def js_distance(x, y) -> float:\n",
    "    return np.sqrt(jensenshannon(x, y))\n",
    "\n",
    "display(dbscan_clustering_experiment_widget(chord, spine_metrics, spine_dataset, score_func, metric=js_distance,\n",
    "                                            min_eps=min_eps, max_eps=max_eps, eps_step=eps_step, use_pca=use_pca,\n",
    "                                            classification=manual_classification, filename_prefix=f\"{chord_prefix}_jensenshannon\"))"
   ]
  },
  {
   "cell_type": "markdown",
   "id": "122bd533",
   "metadata": {},
   "source": [
    "## K-Means Spherical Harmonics descriptor"
   ]
  },
  {
   "cell_type": "code",
   "execution_count": 7,
   "id": "8fbd0c15",
   "metadata": {},
   "outputs": [],
   "source": [
    "dataset_folder = '0.025-0.025-0.1-dataset'\n",
    "output_dir = \"output/clustering_normalized_shpHarm\"\n",
    "cur_metrics = [\"SphericalGarmonics\"]\n",
    "shpHarm_prefix = f\"sphHarm\"\n",
    "calculate_metrics = False\n",
    "save_metrics = True\n",
    "standardize_metrics = True\n",
    "scale = (1, 1, 5)"
   ]
  },
  {
   "cell_type": "code",
   "execution_count": 8,
   "id": "23dc74ee",
   "metadata": {
    "pycharm": {
     "is_executing": true
    }
   },
   "outputs": [],
   "source": [
    "from spine_analysis.shape_metric.io_metric import SpineMetricDataset\n",
    "from notebook_widgets import k_means_clustering_experiment_widget, create_dir, SpineMeshDataset\n",
    "\n",
    "create_dir(output_dir)\n",
    "spine_dataset = SpineMeshDataset().load(dataset_folder)\n",
    "spine_dataset.apply_scale(scale)\n",
    "\n",
    "if calculate_metrics:\n",
    "    every_spine_metrics = SpineMetricDataset()\n",
    "    every_spine_metrics.calculate_metrics(spine_dataset.spine_meshes, cur_metrics)\n",
    "\n",
    "    if save_metrics:\n",
    "        every_spine_metrics.save(f\"{output_dir}/metrics.csv\")\n",
    "\n",
    "every_spine_metrics = SpineMetricDataset.load(f\"{output_dir}/metrics.csv\")\n",
    "if standardize_metrics:\n",
    "    every_spine_metrics.standardize()\n",
    "\n",
    "sphHarm = every_spine_metrics.get_metrics_subset(cur_metrics)\n",
    "score_func = lambda clusterizer: 1"
   ]
  },
  {
   "cell_type": "code",
   "execution_count": 10,
   "id": "324acf50",
   "metadata": {},
   "outputs": [
    {
     "data": {
      "application/vnd.jupyter.widget-view+json": {
       "model_id": "b91434ddc6ae46b393c9c0f276f82373",
       "version_major": 2,
       "version_minor": 0
      },
      "text/plain": [
       "VBox(children=(HBox(children=(Button(description='<', disabled=True, style=ButtonStyle()), Button(description=…"
      ]
     },
     "metadata": {},
     "output_type": "display_data"
    }
   ],
   "source": [
    "from spine_analysis.shape_metric import LightFieldZernikeMomentsSpineMetric\n",
    "from notebook_widgets import kernel_k_means_clustering_experiment_widget\n",
    "from notebook_widgets import SpineMeshDataset\n",
    "from scipy.spatial import distance\n",
    "\n",
    "# load meshes and apply scale\n",
    "spine_dataset = SpineMeshDataset().load(dataset_folder)\n",
    "display(k_means_clustering_experiment_widget(sphHarm, every_spine_metrics, spine_dataset, score_func, metric=distance.cityblock,\n",
    "                                             max_num_of_clusters=5, use_pca=False,\n",
    "                                             filename_prefix=\"sphHarm\"))"
   ]
  },
  {
   "cell_type": "markdown",
   "id": "178765e5",
   "metadata": {},
   "source": [
    "## Kernel k-Means Zernike Moments"
   ]
  },
  {
   "cell_type": "code",
   "execution_count": 1,
   "id": "378c2eff",
   "metadata": {},
   "outputs": [],
   "source": [
    "dataset_folder = '0.025-0.025-0.1-dataset'\n",
    "output_dir = \"output/clustering_normalized\"\n",
    "cur_metrics = [\"LightFieldZernikeMoments\"]\n",
    "zernike_prefix = f\"{output_dir}_zernike\"\n",
    "calculate_metrics = False\n",
    "save_metrics = True\n",
    "standardize_metrics = True"
   ]
  },
  {
   "cell_type": "code",
   "execution_count": 2,
   "id": "2367f16f",
   "metadata": {},
   "outputs": [
    {
     "ename": "RuntimeError",
     "evalue": "module compiled against API version 0xf but this version of numpy is 0xe",
     "output_type": "error",
     "traceback": [
      "\u001b[0;31m---------------------------------------------------------------------------\u001b[0m",
      "\u001b[0;31mRuntimeError\u001b[0m                              Traceback (most recent call last)",
      "\u001b[0;31mRuntimeError\u001b[0m: module compiled against API version 0xf but this version of numpy is 0xe"
     ]
    },
    {
     "name": "stderr",
     "output_type": "stream",
     "text": [
      "Could not import submodules (exact error was: numpy.core.multiarray failed to import).\n",
      "\n",
      "There are many reasons for this error the most common one is that you have\n",
      "either not built the packages or have built (using `python setup.py build`) or\n",
      "installed them (using `python setup.py install`) and then proceeded to test\n",
      "mahotas **without changing the current directory**.\n",
      "\n",
      "Try installing and then changing to another directory before importing mahotas.\n",
      "/home/daria/miniconda3/envs/dendritic-spine-shape-analysis/lib/python3.10/site-packages/tslearn/bases/bases.py:15: UserWarning: h5py not installed, hdf5 features will not be supported.\n",
      "Install h5py to use hdf5 features: http://docs.h5py.org/\n",
      "  warn(h5py_msg)\n"
     ]
    }
   ],
   "source": [
    "from spine_analysis.mesh.utils import load_spine_meshes\n",
    "from spine_analysis.shape_metric.io_metric import SpineMetricDataset\n",
    "from notebook_widgets import k_means_clustering_experiment_widget, create_dir\n",
    "\n",
    "create_dir(output_dir)\n",
    "spine_meshes = load_spine_meshes(folder_path=dataset_folder)\n",
    "\n",
    "if calculate_metrics:\n",
    "    every_spine_metrics = SpineMetricDataset()\n",
    "    every_spine_metrics.calculate_metrics(spine_meshes, cur_metrics)\n",
    "\n",
    "    if save_metrics:\n",
    "        every_spine_metrics.save(f\"{output_dir}/metrics.csv\")"
   ]
  },
  {
   "cell_type": "code",
   "execution_count": 3,
   "id": "0db0ed62",
   "metadata": {},
   "outputs": [],
   "source": [
    "from spine_analysis.shape_metric.io_metric import SpineMetricDataset\n",
    "from sklearn.metrics import silhouette_score\n",
    "\n",
    "every_spine_metrics = SpineMetricDataset.load(f\"{output_dir}/metrics.csv\")\n",
    "if standardize_metrics:\n",
    "    every_spine_metrics.standardize()\n",
    "\n",
    "zernike = every_spine_metrics.get_metrics_subset(['LightFieldZernikeMoments'])\n",
    "score_func = lambda clusterizer: 1"
   ]
  },
  {
   "cell_type": "code",
   "execution_count": 4,
   "id": "84549f36",
   "metadata": {},
   "outputs": [
    {
     "data": {
      "application/vnd.jupyter.widget-view+json": {
       "model_id": "0d39bd2ec1dd40218152a2cdb3babe53",
       "version_major": 2,
       "version_minor": 0
      },
      "text/plain": [
       "VBox(children=(HBox(children=(Button(description='<', disabled=True, style=ButtonStyle()), Button(description=…"
      ]
     },
     "metadata": {},
     "output_type": "display_data"
    }
   ],
   "source": [
    "from spine_analysis.shape_metric import LightFieldZernikeMomentsSpineMetric\n",
    "from notebook_widgets import kernel_k_means_clustering_experiment_widget\n",
    "from notebook_widgets import SpineMeshDataset\n",
    "\n",
    "# load meshes and apply scale\n",
    "spine_dataset = SpineMeshDataset().load(dataset_folder)\n",
    "display(kernel_k_means_clustering_experiment_widget(zernike, every_spine_metrics, spine_dataset, score_func, metric=LightFieldZernikeMomentsSpineMetric.repr_distance,\n",
    "                                             max_num_of_clusters=4, use_pca=False,\n",
    "                                             filename_prefix=\"zernike\"))"
   ]
  },
  {
   "cell_type": "code",
   "execution_count": 19,
   "id": "1bee8a75",
   "metadata": {},
   "outputs": [],
   "source": [
    "v, f = spine_dataset.get_dendrite_v_f(\"0.025-0.025-0.1-dataset/1013-2/spine_0.off\")"
   ]
  },
  {
   "cell_type": "code",
   "execution_count": 23,
   "id": "7285fded",
   "metadata": {},
   "outputs": [
    {
     "data": {
      "text/plain": [
       "{'0.025-0.025-0.1-dataset/1009-3\\\\surface_mesh.off': (array([], shape=(0, 3), dtype=float64),\n",
       "  array([], shape=(0, 3), dtype=uint64)),\n",
       " '0.025-0.025-0.1-dataset/3_full_res (10-2)\\\\surface_mesh.off': (array([], shape=(0, 3), dtype=float64),\n",
       "  array([], shape=(0, 3), dtype=uint64)),\n",
       " '0.025-0.025-0.1-dataset/1010-1\\\\surface_mesh.off': (array([], shape=(0, 3), dtype=float64),\n",
       "  array([], shape=(0, 3), dtype=uint64)),\n",
       " '0.025-0.025-0.1-dataset/3_full_res (19)-1\\\\surface_mesh.off': (array([], shape=(0, 3), dtype=float64),\n",
       "  array([], shape=(0, 3), dtype=uint64)),\n",
       " '0.025-0.025-0.1-dataset/1009-2\\\\surface_mesh.off': (array([], shape=(0, 3), dtype=float64),\n",
       "  array([], shape=(0, 3), dtype=uint64)),\n",
       " '0.025-0.025-0.1-dataset/3_full_res (1)\\\\surface_mesh.off': (array([], shape=(0, 3), dtype=float64),\n",
       "  array([], shape=(0, 3), dtype=uint64)),\n",
       " '0.025-0.025-0.1-dataset/3_full_res (4)\\\\surface_mesh.off': (array([], shape=(0, 3), dtype=float64),\n",
       "  array([], shape=(0, 3), dtype=uint64)),\n",
       " '0.025-0.025-0.1-dataset/3_full_res (2)\\\\surface_mesh.off': (array([], shape=(0, 3), dtype=float64),\n",
       "  array([], shape=(0, 3), dtype=uint64)),\n",
       " '0.025-0.025-0.1-dataset/1013-2\\\\surface_mesh.off': (array([], shape=(0, 3), dtype=float64),\n",
       "  array([], shape=(0, 3), dtype=uint64)),\n",
       " '0.025-0.025-0.1-dataset/1008-11\\\\surface_mesh.off': (array([], shape=(0, 3), dtype=float64),\n",
       "  array([], shape=(0, 3), dtype=uint64)),\n",
       " '0.025-0.025-0.1-dataset/1012-1\\\\surface_mesh.off': (array([], shape=(0, 3), dtype=float64),\n",
       "  array([], shape=(0, 3), dtype=uint64)),\n",
       " '0.025-0.025-0.1-dataset/1003-22\\\\surface_mesh.off': (array([], shape=(0, 3), dtype=float64),\n",
       "  array([], shape=(0, 3), dtype=uint64)),\n",
       " '0.025-0.025-0.1-dataset/1010-3\\\\surface_mesh.off': (array([], shape=(0, 3), dtype=float64),\n",
       "  array([], shape=(0, 3), dtype=uint64)),\n",
       " '0.025-0.025-0.1-dataset/3_full_res (8)\\\\surface_mesh.off': (array([], shape=(0, 3), dtype=float64),\n",
       "  array([], shape=(0, 3), dtype=uint64)),\n",
       " '0.025-0.025-0.1-dataset/1009-11\\\\surface_mesh.off': (array([], shape=(0, 3), dtype=float64),\n",
       "  array([], shape=(0, 3), dtype=uint64)),\n",
       " '0.025-0.025-0.1-dataset/1013-1\\\\surface_mesh.off': (array([], shape=(0, 3), dtype=float64),\n",
       "  array([], shape=(0, 3), dtype=uint64)),\n",
       " '0.025-0.025-0.1-dataset/1010-2\\\\surface_mesh.off': (array([], shape=(0, 3), dtype=float64),\n",
       "  array([], shape=(0, 3), dtype=uint64)),\n",
       " '0.025-0.025-0.1-dataset/3_full_res (19)-2\\\\surface_mesh.off': (array([], shape=(0, 3), dtype=float64),\n",
       "  array([], shape=(0, 3), dtype=uint64)),\n",
       " '0.025-0.025-0.1-dataset/3_full_res (12)\\\\surface_mesh.off': (array([], shape=(0, 3), dtype=float64),\n",
       "  array([], shape=(0, 3), dtype=uint64)),\n",
       " '0.025-0.025-0.1-dataset/3_full_res (5)\\\\surface_mesh.off': (array([], shape=(0, 3), dtype=float64),\n",
       "  array([], shape=(0, 3), dtype=uint64)),\n",
       " '0.025-0.025-0.1-dataset/1011-1\\\\surface_mesh.off': (array([], shape=(0, 3), dtype=float64),\n",
       "  array([], shape=(0, 3), dtype=uint64)),\n",
       " '0.025-0.025-0.1-dataset/1005-1\\\\surface_mesh.off': (array([], shape=(0, 3), dtype=float64),\n",
       "  array([], shape=(0, 3), dtype=uint64)),\n",
       " '0.025-0.025-0.1-dataset/3_full_res (6)\\\\surface_mesh.off': (array([], shape=(0, 3), dtype=float64),\n",
       "  array([], shape=(0, 3), dtype=uint64)),\n",
       " '0.025-0.025-0.1-dataset/3_full_res (13)\\\\surface_mesh.off': (array([], shape=(0, 3), dtype=float64),\n",
       "  array([], shape=(0, 3), dtype=uint64)),\n",
       " '0.025-0.025-0.1-dataset/1005-3\\\\surface_mesh.off': (array([], shape=(0, 3), dtype=float64),\n",
       "  array([], shape=(0, 3), dtype=uint64)),\n",
       " '0.025-0.025-0.1-dataset/1003-1\\\\surface_mesh.off': (array([], shape=(0, 3), dtype=float64),\n",
       "  array([], shape=(0, 3), dtype=uint64)),\n",
       " '0.025-0.025-0.1-dataset/1006-1\\\\surface_mesh.off': (array([], shape=(0, 3), dtype=float64),\n",
       "  array([], shape=(0, 3), dtype=uint64)),\n",
       " '0.025-0.025-0.1-dataset/1007-2\\\\surface_mesh.off': (array([], shape=(0, 3), dtype=float64),\n",
       "  array([], shape=(0, 3), dtype=uint64)),\n",
       " '0.025-0.025-0.1-dataset/1005-2\\\\surface_mesh.off': (array([], shape=(0, 3), dtype=float64),\n",
       "  array([], shape=(0, 3), dtype=uint64)),\n",
       " '0.025-0.025-0.1-dataset/3_full_res (14)\\\\surface_mesh.off': (array([], shape=(0, 3), dtype=float64),\n",
       "  array([], shape=(0, 3), dtype=uint64))}"
      ]
     },
     "execution_count": 23,
     "metadata": {},
     "output_type": "execute_result"
    }
   ],
   "source": [
    "spine_dataset.dendrite_v_f"
   ]
  },
  {
   "cell_type": "markdown",
   "id": "a8b188ec",
   "metadata": {},
   "source": [
    "## View clusterization"
   ]
  },
  {
   "cell_type": "code",
   "execution_count": null,
   "id": "e64e99db",
   "metadata": {
    "scrolled": false
   },
   "outputs": [],
   "source": [
    "from ipywidgets import widgets\n",
    "from notebook_widgets import inspect_grouping_widget\n",
    "\n",
    "\n",
    "clusterization_path = \"output/clusterization/0.025 0.025 0.1 dataset_chord_kmeans_num_of_clusters=6_6_clusters.json\"\n",
    "\n",
    "clusterization = SpineGrouping().load(clusterization_path)\n",
    "\n",
    "print(\"Combined Metrics / Classic Metrics / Chord Histograms\")\n",
    "display(widgets.HBox([clusterization.show(spine_metrics), clusterization.show(classic), clusterization.show(chord)]))\n",
    "\n",
    "display(inspect_grouping_widget(clusterization, spine_dataset, spine_metrics, spine_metrics, manual_classification))"
   ]
  }
 ],
 "metadata": {
  "kernelspec": {
   "display_name": "Python 3 (ipykernel)",
   "language": "python",
   "name": "python3"
  },
  "language_info": {
   "codemirror_mode": {
    "name": "ipython",
    "version": 3
   },
   "file_extension": ".py",
   "mimetype": "text/x-python",
   "name": "python",
   "nbconvert_exporter": "python",
   "pygments_lexer": "ipython3",
   "version": "3.8.8"
  }
 },
 "nbformat": 4,
 "nbformat_minor": 5
}
