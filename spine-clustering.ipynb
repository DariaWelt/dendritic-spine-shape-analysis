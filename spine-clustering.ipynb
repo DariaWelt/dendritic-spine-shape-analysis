{
 "cells": [
  {
   "cell_type": "markdown",
   "id": "f46cf569",
   "metadata": {},
   "source": [
    "# Dendritic Spine Clustering"
   ]
  },
  {
   "cell_type": "markdown",
   "id": "cf2dd971",
   "metadata": {},
   "source": [
    "Glossary: \n",
    "- Group — a division of spines defined by experiment design, e.g., division of spines into experimental and control groups;\n",
    "- Class — a group of spines that meet specific criteria, e.g., stubby, mushroom, thin and filopodia groupings. In clustering results classes are also called groups, because classification is a variation of spine grouping;\n",
    "- Cluster — a homogenous group of spines in the data based on their morphometric features."
   ]
  },
  {
   "cell_type": "markdown",
   "id": "7ff157b6",
   "metadata": {},
   "source": [
    "1. Set `dataset_path`, `show_reduction_method` and `manual_classfication` or `manual_labeling` (optional)."
   ]
  },
  {
   "cell_type": "code",
   "execution_count": null,
   "id": "be40d351",
   "metadata": {},
   "outputs": [],
   "source": [
    "from spine_metrics import SpineMetricDataset\n",
    "from notebook_widgets import SpineMeshDataset, intersection_ratios_mean_distance, create_dir\n",
    "from spine_segmentation import apply_scale\n",
    "from spine_fitter import SpineGrouping\n",
    "from spine_clusterization import SpineClusterizer\n",
    "import numpy as np\n",
    "from sklearn.neighbors import NearestNeighbors\n",
    "from sklearn.metrics import silhouette_score\n",
    "from typing import Optional\n",
    "import warnings\n",
    "warnings.filterwarnings(action='ignore', category=FutureWarning)\n",
    "\n",
    "\n",
    "dataset_path = \"0.025 0.025 0.1 dataset\"\n",
    "scale = (1, 1, 1)\n",
    "show_reduction_method = \"tsne\"\n",
    "    \n",
    "# load meshes and apply scale\n",
    "spine_dataset = SpineMeshDataset().load(dataset_path)\n",
    "spine_dataset.apply_scale(scale)\n",
    "\n",
    "# load manual classification or other labeling, comment out lines with the unused file, \n",
    "# or all lines if required \n",
    "manual_classification = SpineGrouping().load(f\"{dataset_path}/manual_classification/manual_classification_merged_reduced.json\")\n",
    "manual_classification = manual_classification.get_spines_subset(spine_dataset.spine_names)\n",
    "# manual_labeling = SpineGrouping().load(f\"{dataset_path}/labeling_by_dirs.json\")\n",
    "# manual_labeling = manual_classification.get_spines_subset(spine_dataset.spine_names)\n",
    "\n",
    "# load metrics\n",
    "spine_metrics = SpineMetricDataset().load(f\"{dataset_path}/metrics.csv\")\n",
    "# comment out the line below, if you don't have manual classification or labeling and set ->\n",
    "# manual_classification = None \n",
    "spine_metrics = spine_metrics.get_spines_subset(manual_classification.samples)\n",
    "\n",
    "# extract metric subsets\n",
    "classic = spine_metrics.get_metrics_subset(['OpenAngle', 'CVD', \"JunctionArea\", 'AverageDistance', 'Length', 'Area', 'Volume', 'ConvexHullVolume', 'ConvexHullRatio', \"LengthVolumeRatio\", \"LengthAreaRatio\"])\n",
    "chord = spine_metrics.get_metrics_subset(['OldChordDistribution'])\n",
    "\n",
    "# set score function to mean distance between class over cluster distributions\n",
    "score_func = lambda clusterizer: intersection_ratios_mean_distance(manual_classification, clusterizer.grouping, False)\n",
    "\n",
    "\n",
    "# prepare folders for export\n",
    "create_dir(f\"{dataset_path}/clustering\")\n",
    "classic_save_path = f\"{dataset_path}/clustering/classic\"\n",
    "create_dir(classic_save_path)\n",
    "chord_save_path = f\"{dataset_path}/clustering/chord\"\n",
    "create_dir(f\"{dataset_path}/clustering/chord\")"
   ]
  },
  {
   "cell_type": "markdown",
   "id": "d438beed",
   "metadata": {},
   "source": [
    "2. Functions for calculation of elbow score and silhouette metrics."
   ]
  },
  {
   "cell_type": "code",
   "execution_count": null,
   "id": "c271a4f4",
   "metadata": {},
   "outputs": [],
   "source": [
    "# elbow method\n",
    "def kmeans_elbow_score(clusterizer: SpineClusterizer) -> float:\n",
    "    # sum of mean distances to cluster center\n",
    "    output = 0\n",
    "    for group in clusterizer.grouping.groups.values():\n",
    "        center = sum(clusterizer.fit_metrics.row_as_array(spine_name) for spine_name in group)\n",
    "        output += sum(np.inner(center - clusterizer.fit_metrics.row_as_array(spine_name),\n",
    "                               center - clusterizer.fit_metrics.row_as_array(spine_name)) for spine_name in group)\n",
    "    return output\n",
    "\n",
    "def silhouette(clusterizer: SpineClusterizer, metric: Optional[callable] = None) -> float:\n",
    "    datas = []\n",
    "    labels = []\n",
    "    for i, group in enumerate(clusterizer.grouping.groups.values()):\n",
    "        datas.extend(clusterizer.fit_metrics.row_as_array(spine) for spine in group)\n",
    "        labels.extend([i for _ in group])\n",
    "    \n",
    "    labels = np.array(labels)\n",
    "    if metric is None:\n",
    "        score = silhouette_score(datas, labels, metric=clusterizer.metric)\n",
    "    else:\n",
    "        score = silhouette_score(np.array([[metric(x1, x2) for x1 in datas] for x2 in datas]), labels, metric=\"precomputed\")\n",
    "    return score\n"
   ]
  },
  {
   "cell_type": "markdown",
   "id": "ba550012",
   "metadata": {},
   "source": [
    "## k-Means Classic Metrics"
   ]
  },
  {
   "cell_type": "markdown",
   "id": "db394b5a",
   "metadata": {},
   "source": [
    "3. Clustering using classical metrics. In `score_func` choose elbow score or silhoutte, in `classification` — type of grouping if needed."
   ]
  },
  {
   "cell_type": "code",
   "execution_count": null,
   "id": "c31da2a8",
   "metadata": {
    "scrolled": false
   },
   "outputs": [],
   "source": [
    "from notebook_widgets import k_means_clustering_experiment_widget\n",
    "# score_func = lambda clusterizer: intersection_ratios_mean_distance(manual_classification, clusterizer.grouping, False)\n",
    "#score_func = silhouette\n",
    "score_func = kmeans_elbow_score\n",
    "\n",
    "# classification = None\n",
    "# classification = manual_labeling\n",
    "classification = manual_classification\n",
    "\n",
    "dim_reduction = \"\"\n",
    "\n",
    "display(k_means_clustering_experiment_widget(classic, spine_metrics, spine_dataset, score_func,\n",
    "                                             max_num_of_clusters=17, classification=classification,\n",
    "                                             save_folder=classic_save_path, dim_reduction=dim_reduction, show_method=show_reduction_method))"
   ]
  },
  {
   "cell_type": "markdown",
   "id": "283b5b31",
   "metadata": {},
   "source": [
    "4. View labeled groups or classes distribution."
   ]
  },
  {
   "cell_type": "code",
   "execution_count": null,
   "id": "cb12004a",
   "metadata": {},
   "outputs": [],
   "source": [
    "from notebook_widgets import show_class_in_space\n",
    "\n",
    "display(show_class_in_space(manual_classification, classic))"
   ]
  },
  {
   "cell_type": "markdown",
   "id": "28551822",
   "metadata": {},
   "source": [
    "## k-Means Chord Histograms"
   ]
  },
  {
   "cell_type": "markdown",
   "id": "c3108b0e",
   "metadata": {},
   "source": [
    "5. Clustering using chord distribution."
   ]
  },
  {
   "cell_type": "code",
   "execution_count": null,
   "id": "bd49b929",
   "metadata": {},
   "outputs": [],
   "source": [
    "from notebook_widgets import k_means_clustering_experiment_widget\n",
    "\n",
    "# score_func = lambda clusterizer: intersection_ratios_mean_distance(manual_classification, clusterizer.grouping, False)\n",
    "score_func = kmeans_elbow_score\n",
    "\n",
    "# classification = None\n",
    "# classification = manual_labeling\n",
    "classification = manual_classification\n",
    "\n",
    "dim_reduction = \"\"\n",
    "\n",
    "display(k_means_clustering_experiment_widget(chord, spine_metrics, spine_dataset, score_func,\n",
    "                                             max_num_of_clusters=17, classification=classification,\n",
    "                                             save_folder=chord_save_path, dim_reduction=dim_reduction, show_method=show_reduction_method))"
   ]
  },
  {
   "cell_type": "markdown",
   "id": "24d0c013",
   "metadata": {},
   "source": [
    "6. View labeled groups or classes distribution."
   ]
  },
  {
   "cell_type": "code",
   "execution_count": null,
   "id": "249d04bc",
   "metadata": {},
   "outputs": [],
   "source": [
    "from notebook_widgets import show_class_in_space\n",
    "\n",
    "display(show_class_in_space(manual_classification, chord))"
   ]
  },
  {
   "cell_type": "markdown",
   "id": "9db610bd",
   "metadata": {},
   "source": [
    "## View clustering"
   ]
  },
  {
   "cell_type": "markdown",
   "id": "15eeafa6",
   "metadata": {},
   "source": [
    "7. View each clustering result for the dataset."
   ]
  },
  {
   "cell_type": "code",
   "execution_count": null,
   "id": "1d1d6b5c",
   "metadata": {},
   "outputs": [],
   "source": [
    "from notebook_widgets import inspect_saved_groupings_widget\n",
    "\n",
    "display(inspect_saved_groupings_widget(f\"{dataset_path}/clustering\", spine_dataset, spine_metrics,\n",
    "                                       chord, classic, manual_classification))"
   ]
  },
  {
   "cell_type": "code",
   "execution_count": null,
   "id": "e6bb8bec",
   "metadata": {},
   "outputs": [],
   "source": []
  }
 ],
 "metadata": {
  "kernelspec": {
   "display_name": "Python 3 (ipykernel)",
   "language": "python",
   "name": "python3"
  },
  "language_info": {
   "codemirror_mode": {
    "name": "ipython",
    "version": 3
   },
   "file_extension": ".py",
   "mimetype": "text/x-python",
   "name": "python",
   "nbconvert_exporter": "python",
   "pygments_lexer": "ipython3",
   "version": "3.8.8"
  }
 },
 "nbformat": 4,
 "nbformat_minor": 5
}
