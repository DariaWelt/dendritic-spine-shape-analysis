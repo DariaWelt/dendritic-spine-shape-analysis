{
 "cells": [
  {
   "cell_type": "markdown",
   "id": "ba0b121f",
   "metadata": {},
   "source": [
    "## Dendritic Spine Shape Analysis"
   ]
  },
  {
   "cell_type": "code",
   "execution_count": null,
   "id": "f3395c55",
   "metadata": {
    "scrolled": false
   },
   "outputs": [],
   "source": [
    "import numpy as np\n",
    "from spike_segmentation import load_tif, image_binarization\n",
    "\n",
    "\n",
    "# load tif\n",
    "image: np.ndarray = load_tif(\"image.tif\")"
   ]
  },
  {
   "cell_type": "code",
   "execution_count": null,
   "id": "f18e6d6c",
   "metadata": {
    "scrolled": false
   },
   "outputs": [],
   "source": [
    "from notebook_widgets import show_3d_image\n",
    "\n",
    "\n",
    "show_3d_image(image)"
   ]
  },
  {
   "cell_type": "code",
   "execution_count": null,
   "id": "de67f70e",
   "metadata": {},
   "outputs": [],
   "source": [
    "# image binarization\n",
    "block_size = 3\n",
    "\n",
    "binary_image = image_binarization(image, block_size)"
   ]
  },
  {
   "cell_type": "code",
   "execution_count": null,
   "id": "ab873f43",
   "metadata": {},
   "outputs": [],
   "source": [
    "show_3d_image(binary_image)"
   ]
  },
  {
   "cell_type": "code",
   "execution_count": null,
   "id": "d73f4d10",
   "metadata": {},
   "outputs": [],
   "source": [
    "from spike_segmentation import get_surface_points\n",
    "from CGAL.CGAL_Point_set_3 import Point_set_3\n",
    "\n",
    "\n",
    "# calculate surface points\n",
    "surface_points: Point_set_3 = get_surface_points(binary_image)"
   ]
  },
  {
   "cell_type": "code",
   "execution_count": null,
   "id": "e4a7137d",
   "metadata": {},
   "outputs": [],
   "source": [
    "from CGAL.CGAL_Polyhedron_3 import Polyhedron_3\n",
    "from CGAL.CGAL_Poisson_surface_reconstruction import poisson_surface_reconstruction\n",
    "\n",
    "\n",
    "# construct surface mesh\n",
    "surface_poly = Polyhedron_3()\n",
    "poisson_surface_reconstruction(surface_points, surface_poly)\n",
    "# export surface mesh to .off file\n",
    "surface_poly.write_to_file(\"output/surface_mesh.off\")"
   ]
  },
  {
   "cell_type": "code",
   "execution_count": null,
   "id": "b63c626e",
   "metadata": {},
   "outputs": [],
   "source": [
    "from CGAL.CGAL_Surface_mesh_skeletonization import surface_mesh_skeletonization\n",
    "from CGAL.CGAL_Polygon_mesh_processing import Polylines\n",
    "\n",
    "\n",
    "# get surface skeleton\n",
    "skeleton_polylines = Polylines()\n",
    "correspondence_polylines = Polylines()\n",
    "surface_mesh_skeletonization(surface_poly, skeleton_polylines, correspondence_polylines)"
   ]
  },
  {
   "cell_type": "code",
   "execution_count": null,
   "id": "9f8b04f0",
   "metadata": {},
   "outputs": [],
   "source": [
    "from spike_segmentation import build_graph, build_correspondence, build_reverse_correpondnce\n",
    "\n",
    "\n",
    "# convert polyline data \n",
    "skeleton_graph = build_graph(skeleton_polylines)\n",
    "corr = build_correspondence(correspondence_polylines)\n",
    "reverse_corr = build_reverse_correpondnce(correspondence_polylines)"
   ]
  },
  {
   "cell_type": "code",
   "execution_count": null,
   "id": "889f7413",
   "metadata": {},
   "outputs": [],
   "source": [
    "from spike_segmentation import segmentation_by_distance\n",
    "\n",
    "# set segmentation by distance sensitivity\n",
    "sensitivity = 0.75\n",
    "\n",
    "# perform surface segmentation\n",
    "segmentation = segmentation_by_distance(surface_poly, corr, reverse_corr, skeleton_graph, sensitivity)"
   ]
  },
  {
   "cell_type": "code",
   "execution_count": null,
   "id": "e2e29cdb",
   "metadata": {},
   "outputs": [],
   "source": [
    "# TODO: render segmented 3d surface"
   ]
  },
  {
   "cell_type": "code",
   "execution_count": null,
   "id": "5da5c32b",
   "metadata": {},
   "outputs": [],
   "source": [
    "# TODO: calculate metrics"
   ]
  },
  {
   "cell_type": "code",
   "execution_count": null,
   "id": "239506f1",
   "metadata": {},
   "outputs": [],
   "source": []
  }
 ],
 "metadata": {
  "kernelspec": {
   "display_name": "Python 3",
   "language": "python",
   "name": "python3"
  },
  "language_info": {
   "codemirror_mode": {
    "name": "ipython",
    "version": 3
   },
   "file_extension": ".py",
   "mimetype": "text/x-python",
   "name": "python",
   "nbconvert_exporter": "python",
   "pygments_lexer": "ipython3",
   "version": "3.8.8"
  }
 },
 "nbformat": 4,
 "nbformat_minor": 5
}
