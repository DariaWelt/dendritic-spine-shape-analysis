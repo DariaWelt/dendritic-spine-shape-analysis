{
 "cells": [
  {
   "cell_type": "markdown",
   "id": "ba0b121f",
   "metadata": {},
   "source": [
    "## Dendritic Spine Shape Analysis"
   ]
  },
  {
   "cell_type": "code",
   "execution_count": null,
   "id": "f3395c55",
   "metadata": {
    "scrolled": false
   },
   "outputs": [],
   "source": [
    "import numpy as np\n",
    "from spine_segmentation import load_tif\n",
    "from notebook_widgets import show_3d_image\n",
    "\n",
    "\n",
    "# load tif\n",
    "image: np.ndarray = load_tif(\"image.tif\")\n",
    "# show_3d_image(image)"
   ]
  },
  {
   "cell_type": "code",
   "execution_count": null,
   "id": "de67f70e",
   "metadata": {},
   "outputs": [],
   "source": [
    "from notebook_widgets import interactive_binarization\n",
    "\n",
    "binarization_widget = interactive_binarization(image)\n",
    "display(binarization_widget)"
   ]
  },
  {
   "cell_type": "code",
   "execution_count": null,
   "id": "d73f4d10",
   "metadata": {},
   "outputs": [],
   "source": [
    "from spine_segmentation import get_surface_points\n",
    "from CGAL.CGAL_Point_set_3 import Point_set_3\n",
    "\n",
    "# extract binarization result\n",
    "binary_image = binarization_widget.result\n",
    "\n",
    "# calculate surface points\n",
    "# surface_points: Point_set_3 = get_surface_points(binary_image)"
   ]
  },
  {
   "cell_type": "code",
   "execution_count": null,
   "id": "e4a7137d",
   "metadata": {},
   "outputs": [],
   "source": [
    "from CGAL.CGAL_Polyhedron_3 import Polyhedron_3\n",
    "from CGAL.CGAL_Poisson_surface_reconstruction import poisson_surface_reconstruction\n",
    "from notebook_widgets import show_3d_mesh\n",
    "\n",
    "\n",
    "# construct surface mesh\n",
    "# surface_poly = Polyhedron_3()\n",
    "surface_poly = Polyhedron_3(\"output/surface_mesh.off\")\n",
    "# poisson_surface_reconstruction(surface_points, surface_poly)\n",
    "# export surface mesh to .off file\n",
    "#surface_poly.write_to_file(\"output/surface_mesh.off\")\n",
    "# render surface mesh\n",
    "# show_3d_mesh(surface_poly)"
   ]
  },
  {
   "cell_type": "code",
   "execution_count": null,
   "id": "b63c626e",
   "metadata": {},
   "outputs": [],
   "source": [
    "from CGAL.CGAL_Surface_mesh_skeletonization import surface_mesh_skeletonization\n",
    "from CGAL.CGAL_Polygon_mesh_processing import Polylines\n",
    "\n",
    "\n",
    "# get surface skeleton\n",
    "skeleton_polylines = Polylines()\n",
    "correspondence_polylines = Polylines()\n",
    "surface_mesh_skeletonization(surface_poly, skeleton_polylines, correspondence_polylines)"
   ]
  },
  {
   "cell_type": "code",
   "execution_count": null,
   "id": "9f8b04f0",
   "metadata": {},
   "outputs": [],
   "source": [
    "from spine_segmentation import build_graph, build_correspondence, build_reverse_correpondnce\n",
    "\n",
    "\n",
    "# convert polyline data \n",
    "skeleton_graph = build_graph(skeleton_polylines)\n",
    "corr = build_correspondence(correspondence_polylines)\n",
    "reverse_corr = build_reverse_correpondnce(correspondence_polylines)"
   ]
  },
  {
   "cell_type": "code",
   "execution_count": null,
   "id": "27ea84ee",
   "metadata": {},
   "outputs": [],
   "source": [
    "from notebook_widgets import interactive_segmentation\n",
    "\n",
    "segmentation_widget = interactive_segmentation(surface_poly, corr, reverse_corr, skeleton_graph)\n",
    "display(segmentation_widget)"
   ]
  },
  {
   "cell_type": "code",
   "execution_count": null,
   "id": "e2e29cdb",
   "metadata": {},
   "outputs": [],
   "source": [
    "from spine_segmentation import get_spine_meshes  # , save_segmentation\n",
    "from notebook_widgets import show_segmented_mesh\n",
    "\n",
    "segmentation = segmentation_widget.result\n",
    "# save_segmentation(segmentation, \"output/segmentation.json\")\n",
    "\n",
    "# extract spine meshes\n",
    "spine_meshes = get_spine_meshes(surface_poly, segmentation)\n",
    "\n",
    "# export spine meshes\n",
    "for i, spine_mesh in enumerate(spine_meshes):\n",
    "    filename = f\"output/spine_{i}.off\"\n",
    "    spine_mesh.write_to_file(filename)"
   ]
  },
  {
   "cell_type": "code",
   "execution_count": null,
   "id": "edee00bf",
   "metadata": {},
   "outputs": [],
   "source": [
    "from spine_metrics import calculate_metrics\n",
    "\n",
    "\n",
    "# calculate metrics for each spine\n",
    "\n",
    "metric_names = [\"Area\", \"Volume\"]\n",
    "\n",
    "metrics = []\n",
    "for spine_mesh in spine_meshes:\n",
    "    metrics.append(calculate_metrics(spine_mesh, metric_names)) "
   ]
  },
  {
   "cell_type": "code",
   "execution_count": null,
   "id": "4a8be9d8",
   "metadata": {
    "scrolled": false
   },
   "outputs": [],
   "source": [
    "from notebook_widgets import select_spines_widget\n",
    "\n",
    "\n",
    "selection_widget = select_spines_widget(spine_meshes, surface_poly, metrics)\n",
    "display(selection_widget)"
   ]
  },
  {
   "cell_type": "code",
   "execution_count": null,
   "id": "254f9a2a",
   "metadata": {},
   "outputs": [],
   "source": [
    "from spine_segmentation import get_final_segmentation\n",
    "\n",
    "\n",
    "spine_selection = selection_widget.result\n",
    "final_spines = []\n",
    "for i in range(len(spine_selection)):\n",
    "    if spine_selection[i]:\n",
    "        final_spines.append(spine_meshes[i])\n",
    "\n",
    "final_segmentation = get_final_segmentation(final_spines)\n",
    "\n",
    "show_segmented_mesh(surface_poly, final_segmentation)"
   ]
  }
 ],
 "metadata": {
  "kernelspec": {
   "display_name": "Python 3 (ipykernel)",
   "language": "python",
   "name": "python3"
  },
  "language_info": {
   "codemirror_mode": {
    "name": "ipython",
    "version": 3
   },
   "file_extension": ".py",
   "mimetype": "text/x-python",
   "name": "python",
   "nbconvert_exporter": "python",
   "pygments_lexer": "ipython3",
   "version": "3.8.8"
  }
 },
 "nbformat": 4,
 "nbformat_minor": 5
}
