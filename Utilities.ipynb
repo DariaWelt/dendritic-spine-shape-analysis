{
 "cells": [
  {
   "cell_type": "markdown",
   "id": "004d833f",
   "metadata": {},
   "source": [
    "### View Dendrite\n",
    "Set `dendrite_path` and `scale`."
   ]
  },
  {
   "cell_type": "code",
   "execution_count": null,
   "id": "a2cdd285",
   "metadata": {
    "scrolled": false
   },
   "outputs": [],
   "source": [
    "from notebook_widgets import show_polylines, show_3d_mesh, polylines_to_line_set\n",
    "from CGAL.CGAL_Polyhedron_3 import Polyhedron_3\n",
    "from CGAL.CGAL_Polygon_mesh_processing import Polylines\n",
    "from CGAL.CGAL_Surface_mesh_skeletonization import surface_mesh_skeletonization\n",
    "from spine_segmentation import apply_scale\n",
    "\n",
    "dendrite_path = \"example_dendrite/surface_mesh.off\"\n",
    "\n",
    "scale = (1, 1, 1)\n",
    "\n",
    "dendrite_mesh = Polyhedron_3(dendrite_path)\n",
    "dendrite_mesh = apply_scale(dendrite_mesh, scale)\n",
    "\n",
    "# get skeleton\n",
    "skeleton_polylines = Polylines()\n",
    "correspondence_polylines = Polylines()\n",
    "surface_mesh_skeletonization(dendrite_mesh, skeleton_polylines, correspondence_polylines)\n",
    "\n",
    "print(\"Mesh\")\n",
    "show_3d_mesh(dendrite_mesh)\n",
    "print(\"Skeleton\")\n",
    "show_polylines(skeleton_polylines)\n",
    "print(\"Skeleton + Mesh\")\n",
    "show_polylines(skeleton_polylines, dendrite_mesh)"
   ]
  },
  {
   "cell_type": "markdown",
   "id": "d7917375",
   "metadata": {},
   "source": [
    "### View Chords\n",
    "Set `spine_path`, `scale`, `num_of_chords` and `num_of_bins`."
   ]
  },
  {
   "cell_type": "code",
   "execution_count": null,
   "id": "e94a5a6c",
   "metadata": {},
   "outputs": [],
   "source": [
    "from CGAL.CGAL_Polyhedron_3 import Polyhedron_3\n",
    "from notebook_widgets import spine_chords_widget\n",
    "from spine_segmentation import apply_scale\n",
    "\n",
    "\n",
    "spine_path = \"example_dendrite/spine_0.off\"\n",
    "\n",
    "scale = (1, 1, 1)\n",
    "\n",
    "num_of_chords = 100\n",
    "num_of_bins = 10\n",
    "\n",
    "spine_mesh = Polyhedron_3(spine_path)\n",
    "spine_mesh = apply_scale(spine_mesh, scale)\n",
    "\n",
    "display(spine_chords_widget(spine_mesh, num_of_chords, num_of_bins))"
   ]
  },
  {
   "cell_type": "markdown",
   "id": "0cd85b34",
   "metadata": {},
   "source": [
    "### View Spines in Dataset\n",
    "Set `dataset_path` and `scale`."
   ]
  },
  {
   "cell_type": "code",
   "execution_count": null,
   "id": "9764f976",
   "metadata": {
    "scrolled": true
   },
   "outputs": [],
   "source": [
    "from spine_metrics import SpineMetricDataset\n",
    "from notebook_widgets import SpineMeshDataset, spine_dataset_view_widget\n",
    "\n",
    "dataset_path = \"example_dendrite\"\n",
    "\n",
    "scale = (1, 1, 1)\n",
    "\n",
    "spine_dataset = SpineMeshDataset().load(dataset_path)\n",
    "spine_dataset.apply_scale(scale)\n",
    "\n",
    "metrics = SpineMetricDataset().load(f\"{dataset_path}/metrics.csv\")\n",
    "\n",
    "display(spine_dataset_view_widget(spine_dataset, metrics))"
   ]
  },
  {
   "cell_type": "markdown",
   "id": "d308a02c",
   "metadata": {},
   "source": [
    "### Calculate Metrics\n",
    "Set `dataset_path`. Metrics for the dataset will be saved to `dataset_path/metrics.csv`. Chords histograms will be saved separately to `dataset_path/chords.csv`. "
   ]
  },
  {
   "cell_type": "code",
   "execution_count": null,
   "id": "784d377c",
   "metadata": {},
   "outputs": [],
   "source": [
    "from spine_metrics import SpineMetricDataset\n",
    "from notebook_widgets import SpineMeshDataset\n",
    "\n",
    "\n",
    "dataset_path = \"example_dendrite\"\n",
    "\n",
    "# load meshes\n",
    "spine_dataset = SpineMeshDataset().load(dataset_path)\n",
    "\n",
    "# calculate metrics\n",
    "metric_names = [\"OldChordDistribution\", \"OpenAngle\", \"CVD\", \"AverageDistance\",\n",
    "                \"LengthVolumeRatio\", \"LengthAreaRatio\", \"JunctionArea\",\n",
    "                \"Length\", \"Area\", \"Volume\", \"ConvexHullVolume\", \"ConvexHullRatio\"]\n",
    "spine_metrics = SpineMetricDataset()\n",
    "spine_metrics.calculate_metrics(spine_dataset.spine_meshes, metric_names)\n",
    "spine_metrics.save(f\"{dataset_path}/metrics.csv\")    \n",
    "\n",
    "spine_metrics.get_metrics_subset([\"OldChordDistribution\"]).save_as_array(f\"{dataset_path}/chords.csv\")"
   ]
  }
 ],
 "metadata": {
  "kernelspec": {
   "display_name": "Python 3 (ipykernel)",
   "language": "python",
   "name": "python3"
  },
  "language_info": {
   "codemirror_mode": {
    "name": "ipython",
    "version": 3
   },
   "file_extension": ".py",
   "mimetype": "text/x-python",
   "name": "python",
   "nbconvert_exporter": "python",
   "pygments_lexer": "ipython3",
   "version": "3.8.8"
  }
 },
 "nbformat": 4,
 "nbformat_minor": 5
}
